{
 "cells": [
  {
   "cell_type": "code",
   "execution_count": null,
   "id": "6c343b52-d74c-4c5e-b39b-564b857ff4bc",
   "metadata": {},
   "outputs": [],
   "source": [
    "import h5py\n",
    "import numpy as np\n",
    "\n",
    "import matplotlib\n",
    "import matplotlib.pyplot as plt\n",
    "matplotlib.rcParams.update({'font.size': 20})\n",
    "matplotlib.rcParams['mathtext.fontset'] = 'stix'\n",
    "matplotlib.rcParams['font.family'] = 'STIXGeneral'\n",
    "\n",
    "from pycbc.conversions import eta_from_mass1_mass2, mchirp_from_mass1_mass2, mass1_from_mchirp_eta, mass2_from_mchirp_eta"
   ]
  },
  {
   "cell_type": "code",
   "execution_count": null,
   "id": "702a76b2-918d-4780-ab60-da0fa65a3a32",
   "metadata": {},
   "outputs": [],
   "source": [
    "data = h5py.File('H1L1V1-BANKSIM_MATCH_COMBINE_BROADINJ1-2620801-1163865616.h5', 'r')\n",
    "data['inj_params'].keys()"
   ]
  },
  {
   "cell_type": "code",
   "execution_count": null,
   "id": "09933911-0718-4273-b678-8c220c0a31b2",
   "metadata": {},
   "outputs": [],
   "source": [
    "m1 = data['inj_params']['mass1'][:]\n",
    "m2 = data['inj_params']['mass2'][:]\n",
    "chi1= data['inj_params']['spin1z'][:]\n",
    "chi2 = data['inj_params']['spin2z'][:]\n",
    "match = data['trig_params']['match'][:]\n",
    "mchirp = mchirp_from_mass1_mass2(m1, m2)\n",
    "eta = eta_from_mass1_mass2(m1, m2)"
   ]
  },
  {
   "cell_type": "code",
   "execution_count": null,
   "id": "920b3500-583a-4518-b265-91bfd7448bba",
   "metadata": {},
   "outputs": [],
   "source": [
    "#sel = np.logical_and(eta < 0.249, np.logical_and(eta > 0.1, np.logical_and(mchirp >5, mchirp < 50)))\n",
    "\n",
    "sel = np.logical_and(eta > 0.1, np.logical_and(mchirp >5, mchirp < 20))\n",
    "\n",
    "constrained_m1 = m1[sel]\n",
    "constrained_m2=m2[sel]\n",
    "constrained_chi1=chi1[sel]\n",
    "constrained_chi2=chi2[sel]\n",
    "constrained_match=match[sel]\n",
    "constrained_mchirp=mchirp[sel]\n",
    "constrained_eta=eta[sel]"
   ]
  },
  {
   "cell_type": "code",
   "execution_count": null,
   "id": "789913e6-b76b-49c8-9934-29a0a85a6541",
   "metadata": {},
   "outputs": [],
   "source": [
    "print(f'There is a total of {len(constrained_m1)} injections.')"
   ]
  },
  {
   "cell_type": "code",
   "execution_count": null,
   "id": "4820088b-30d6-46c1-b144-190cc4487216",
   "metadata": {},
   "outputs": [],
   "source": [
    "print(f'There were {len(constrained_m1[constrained_match < 0.97])} injections that were not recovered and had fitting factors less than 0.97.')"
   ]
  },
  {
   "cell_type": "code",
   "execution_count": null,
   "id": "72fb47d7-6c23-47a1-9876-b4d569652b96",
   "metadata": {},
   "outputs": [],
   "source": [
    "print(f'{(len(constrained_m1)-len(constrained_m1[constrained_match < 0.97]))/(len(constrained_m1))*100} of injections were recovered at with a fitting factor greater than 0.97.')"
   ]
  },
  {
   "cell_type": "code",
   "execution_count": null,
   "id": "b5f0f403-53db-413e-af01-e6b926f0cd90",
   "metadata": {},
   "outputs": [],
   "source": [
    "fig, ((ax1, ax2), (ax3, ax4)) = plt.subplots(nrows=2, ncols=2, figsize=(16, 14))\n",
    "\n",
    "ax1.scatter(constrained_m1[constrained_match >= 0.97], constrained_m2[constrained_match >= 0.97], color='#1c5dff', s=3, alpha=0.35, label='$FF \\geq 0.97$')\n",
    "ax1.scatter(constrained_m1[constrained_match < 0.97], constrained_m2[constrained_match < 0.97], color='#fe3dfd', s=25, label='$FF < 0.97$')\n",
    "ax1.set_xlabel('$m_{1} \\; (M_{\\odot})$')\n",
    "ax1.set_ylabel('$m_{2} \\; (M_{\\odot})$')\n",
    "ax1.legend()\n",
    "\n",
    "ax2.scatter(constrained_mchirp, constrained_eta, c=constrained_match, s=3, cmap='plasma')\n",
    "ax2.set_xlabel('$\\mathcal{M}_{c} \\; (M_{\\odot})$')\n",
    "ax2.set_ylabel('$\\eta$')\n",
    "\n",
    "\n",
    "ax3.scatter(constrained_chi1[constrained_match >= 0.97], constrained_chi2[constrained_match >= 0.97], color='#1c5dff', s=3, alpha=0.35)\n",
    "ax3.scatter(constrained_chi1[constrained_match < 0.97], constrained_chi2[constrained_match < 0.97], color='#fe3dfd', s=25)\n",
    "ax3.set_xlabel('$\\chi_{1}$')\n",
    "ax3.set_ylabel('$\\chi_{2}$')\n",
    "\n",
    "ax4.hist(constrained_match, color='#cf0dff', bins=40)\n",
    "ax4.set_xlabel('Fitting Factor')\n",
    "ax4.set_ylabel('Number of Injections')\n",
    "ax4.set_yscale('log')\n",
    "\n",
    "\n",
    "fig.colorbar(ax2.scatter(constrained_mchirp, constrained_eta, c=constrained_match, s=3, cmap='plasma'), label='Fitting Factor')\n",
    "fig.tight_layout() \n",
    "fig.savefig('Results_Big.png', dpi=300, bbox_inches='tight')"
   ]
  },
  {
   "cell_type": "markdown",
   "id": "522b97fd-d14e-44ae-993b-de9c52aafe6e",
   "metadata": {},
   "source": [
    "<h1>Identifying why the template bank was undercovered in the high mass regions<h1> "
   ]
  },
  {
   "cell_type": "code",
   "execution_count": null,
   "id": "ce3c5b88-3549-43b6-9aa1-7ecd8bf2c902",
   "metadata": {},
   "outputs": [],
   "source": [
    "from Model import NeuralNetwork\n",
    "import torch\n",
    "import torch.nn as nn\n",
    "import pandas as pd"
   ]
  },
  {
   "cell_type": "code",
   "execution_count": null,
   "id": "e8b98902-5d4f-4d74-a6e8-04a8b66d9d2c",
   "metadata": {},
   "outputs": [],
   "source": [
    "#Locate the trained LearningMatch model\n",
    "LEARNINGMATCH_MODEL = '/users/sgreen/TemplateGeNN/Paper/LearningMatchModel.pth'"
   ]
  },
  {
   "cell_type": "code",
   "execution_count": null,
   "id": "05c02934-7cdb-409e-b634-556766116a22",
   "metadata": {},
   "outputs": [],
   "source": [
    "#Define the functions\n",
    "REF_LAMBDA = 5.0\n",
    "\n",
    "def lambda0_to_mchirp(lambda0):\n",
    "    return (lambda0**(-3/5))*REF_LAMBDA\n",
    "\n",
    "def mchirp_to_lambda0(mchirp):\n",
    "    return (mchirp/REF_LAMBDA)**(-5/3)"
   ]
  },
  {
   "cell_type": "code",
   "execution_count": null,
   "id": "5b6ccebd-343c-40a6-ac34-a7025e8c1e15",
   "metadata": {},
   "outputs": [],
   "source": [
    "#Check that Pytorch recognises there is a GPU available\n",
    "device = \"cuda\" if torch.cuda.is_available() else \"cpu\""
   ]
  },
  {
   "cell_type": "code",
   "execution_count": null,
   "id": "b2ca3351-9073-472c-a574-127a98286597",
   "metadata": {},
   "outputs": [],
   "source": [
    "#Load the trained LearningMatch model\n",
    "model = NeuralNetwork().to(device)\n",
    "model.load_state_dict(torch.load(LEARNINGMATCH_MODEL, map_location=device))\n",
    "model.eval()"
   ]
  },
  {
   "cell_type": "code",
   "execution_count": null,
   "id": "44ec66a0-777d-43d9-a23d-d1117a603010",
   "metadata": {},
   "outputs": [],
   "source": [
    "#Locate the template bank generated by TemplateGeNN using the learningMatch model loaded in the cell above. \n",
    "TEMPLATEBANK_FILE_PATH = '/users/sgreen/TemplateGeNN/Paper/TemplateGeNNFast.csv'\n",
    "TemplateBank = pd.read_csv(TEMPLATEBANK_FILE_PATH)\n",
    "TemplateBank.head()"
   ]
  },
  {
   "cell_type": "code",
   "execution_count": null,
   "id": "4e8f95bd-1352-45cf-8aa3-28468172da0b",
   "metadata": {},
   "outputs": [],
   "source": [
    "#Convert the template bank generated by TemplateGeNN into the parameter space for LearningMatch. \n",
    "template_bank_mchirp = mchirp_from_mass1_mass2(TemplateBank.mass1.values, TemplateBank.mass2.values)\n",
    "template_bank_lambda0 = mchirp_to_lambda0(template_bank_mchirp)\n",
    "template_bank_eta = eta_from_mass1_mass2(TemplateBank.mass1.values, TemplateBank.mass2.values)\n",
    "\n",
    "template_bank = np.vstack((template_bank_lambda0, template_bank_eta,\n",
    "                   TemplateBank.spin1.values, TemplateBank.spin2.values)).T"
   ]
  },
  {
   "cell_type": "code",
   "execution_count": null,
   "id": "e6389a23-196b-454e-b5b9-14b033efa497",
   "metadata": {},
   "outputs": [],
   "source": [
    "#Convert the template bank to a tensor.\n",
    "template_bank_tensor = torch.tensor(template_bank, dtype=torch.float32)\n",
    "\n",
    "#Define the size of the template bank.\n",
    "rows, columns = template_bank_tensor.size()"
   ]
  },
  {
   "cell_type": "code",
   "execution_count": null,
   "id": "b5e76a00-edcb-44f6-b7d3-042f5ffc9b16",
   "metadata": {},
   "outputs": [],
   "source": [
    "#Create variables for all the injections that were not recovered by the template bank generated by TemplateGeNN.\n",
    "failed_injections_mchirp = constrained_mchirp[constrained_match < 0.97]\n",
    "failed_injections_eta = constrained_eta[constrained_match < 0.97]\n",
    "failed_injections_chi1 = constrained_chi1[constrained_match < 0.97]\n",
    "failed_injections_chi2 = constrained_chi2[constrained_match < 0.97]\n",
    "\n",
    "failed_injections = np.vstack((mchirp_to_lambda0(failed_injections_mchirp), failed_injections_eta, \n",
    "                     failed_injections_chi1, failed_injections_chi2)).T"
   ]
  },
  {
   "cell_type": "code",
   "execution_count": null,
   "id": "4b6fb916-1ef5-4083-8fae-c49b2e766ab4",
   "metadata": {},
   "outputs": [],
   "source": [
    "#Iterate through each injection that was not recovered by the template bank generated by TemplateGeNN, called failed injections. \n",
    "#Let LearningMatch predict the match between the failed injections and the template bank. \n",
    "#Find the maximum match (i.e. fitting factor) which we have called the LearningMatch Predictive Fitting Factor.\n",
    "learningMatch_failed = []\n",
    "for x in failed_injections: \n",
    "    failed_injections_tensor = torch.tensor(x, dtype=torch.float32)\n",
    "    ref_parameters = torch.reshape(failed_injections_tensor, (1,-1))\n",
    "    large_ref_parameters = failed_injections_tensor.expand(rows, 4)\n",
    "    x_data =  torch.cat((large_ref_parameters, template_bank_tensor), 1)\n",
    "    match = model(x_data)\n",
    "    learningMatch_failed.append(torch.max(match).detach().numpy())"
   ]
  },
  {
   "cell_type": "code",
   "execution_count": null,
   "id": "8327eb7e-e347-4b9d-b377-846ed93349ff",
   "metadata": {},
   "outputs": [],
   "source": [
    "plt.scatter(failed_injections_mchirp, failed_injections_eta, c=learningMatch_failed, s=3, cmap='plasma')\n",
    "plt.xlabel('$\\mathcal{M}_{c} \\; (M_{\\odot})$')\n",
    "plt.ylabel('$\\eta$')\n",
    "plt.colorbar(label='LearningMatch Predictive FF')\n",
    "plt.savefig('LearningMatch_failed_injections_scatter.png', dpi=300, bbox_inches='tight')"
   ]
  },
  {
   "cell_type": "code",
   "execution_count": null,
   "id": "73fd1d73-12a2-4069-9c80-c744df7049ae",
   "metadata": {},
   "outputs": [],
   "source": []
  }
 ],
 "metadata": {
  "kernelspec": {
   "display_name": "XanPytorch",
   "language": "python",
   "name": "xanpytorch"
  },
  "language_info": {
   "codemirror_mode": {
    "name": "ipython",
    "version": 3
   },
   "file_extension": ".py",
   "mimetype": "text/x-python",
   "name": "python",
   "nbconvert_exporter": "python",
   "pygments_lexer": "ipython3",
   "version": "3.11.5"
  }
 },
 "nbformat": 4,
 "nbformat_minor": 5
}
